{
 "cells": [
  {
   "cell_type": "code",
   "execution_count": 1,
   "id": "9a7398e0-1f94-4837-a185-62c664059c00",
   "metadata": {},
   "outputs": [
    {
     "name": "stdout",
     "output_type": "stream",
     "text": [
      "[Errno 2] No such file or directory: 'Advent_of_code/'\n",
      "/mnt/c/Users/rasmu/Dropbox/Uni/AdventOfCode\n"
     ]
    }
   ],
   "source": [
    "cd Advent_of_code/"
   ]
  },
  {
   "cell_type": "markdown",
   "id": "fa54af42-427f-42c4-92cd-4ffc7261f6d0",
   "metadata": {},
   "source": [
    "# December 1."
   ]
  },
  {
   "cell_type": "code",
   "execution_count": 2,
   "id": "3b5d1765-c386-43ca-b122-02ad9e11c9e6",
   "metadata": {},
   "outputs": [
    {
     "name": "stdout",
     "output_type": "stream",
     "text": [
      "svar 1: 71502\n",
      "svar 2: 208191\n"
     ]
    }
   ],
   "source": [
    "sizes = [sum([int(x) for x in section.split(\"\\n\")]) \n",
    "         for section in open(\"day1.txt\").read().split(\"\\n\\n\")]\n",
    "print(\"svar 1:\", max(sizes))\n",
    "print(\"svar 2:\", sum(sorted(sizes)[-3:]))"
   ]
  },
  {
   "cell_type": "markdown",
   "id": "50450024-677e-4d2a-b5e8-c0e0683f8038",
   "metadata": {},
   "source": [
    "# December 2."
   ]
  },
  {
   "cell_type": "code",
   "execution_count": 3,
   "id": "11a92743-0974-43f5-a9c3-7183e0eacc5c",
   "metadata": {},
   "outputs": [
    {
     "name": "stdout",
     "output_type": "stream",
     "text": [
      "svar 1: 15691\n",
      "svar 2: 12989\n"
     ]
    }
   ],
   "source": [
    "values = {\"A\": 1, \"B\": 2, \"C\": 3, \"X\" : 1, \"Y\": 2, \"Z\" : 3}\n",
    "print(\"svar 1:\", sum([[3, 6, 0][values[b] - values[a]] + values[b] \n",
    "     for a, _, b, _ in open(\"day2.txt\").readlines()]))\n",
    "print(\"svar 2:\", sum([(\"XYZ\".index(b))*3+(\"ABC\".index(a)+\"XYZ\".index(b)-1)%3+1\n",
    "        for a, _, b, _ in open(\"day2.txt\").readlines()]))"
   ]
  },
  {
   "cell_type": "markdown",
   "id": "c22b5c4e-7321-4312-b306-1203902494c5",
   "metadata": {},
   "source": [
    "# December 3."
   ]
  },
  {
   "cell_type": "code",
   "execution_count": 4,
   "id": "06de92a4-0296-457f-bd58-a65874b1b1f2",
   "metadata": {},
   "outputs": [
    {
     "name": "stdout",
     "output_type": "stream",
     "text": [
      "svar 2: 7872\n",
      "svar 2: 2497\n"
     ]
    }
   ],
   "source": [
    "overlap = lambda x: (set(x[:len(x)//2]) & set(x[len(x)//2:]))\n",
    "priority = lambda x: ord(x)-(38 if x.isupper() else 96)\n",
    "print(\"svar 2:\", sum([priority(*overlap(x)) for x in open(\"day3.txt\").read().split(\"\\n\")]))\n",
    "types = [set(x) for x in open(\"day3.txt\").read().split(\"\\n\")]\n",
    "print(\"svar 2:\", sum([priority(*(types[3*i+0] & types[3*i+1] & types[3*i+2])) for i in range(len(types)//3)]))"
   ]
  },
  {
   "cell_type": "markdown",
   "id": "7dbfb60f-991f-4a6f-9fa6-d2ee0e1d6c5d",
   "metadata": {},
   "source": [
    "# December 4."
   ]
  },
  {
   "cell_type": "code",
   "execution_count": 5,
   "id": "775770cf-abde-40c5-bc93-c3400ee0df6c",
   "metadata": {},
   "outputs": [
    {
     "name": "stdout",
     "output_type": "stream",
     "text": [
      "svar 1: 487\n",
      "svar 2: 849\n"
     ]
    }
   ],
   "source": [
    "parse_range = lambda a,b: set(range(int(a), int(b)+1))\n",
    "to_maps = lambda pair: [parse_range(*x.split(\"-\")) for x in pair.split(\",\")]\n",
    "fully_overlaps = lambda a,b: min(len(a),len(b)) == len(a & b)\n",
    "partial_overlap = lambda a,b: len(a & b) > 0\n",
    "pairs_as_maps = [to_maps(pair) for pair in open(\"day4.txt\").read().split(\"\\n\")]\n",
    "print(\"svar 1:\", sum([fully_overlaps(a,b) for a, b in pairs_as_maps]))\n",
    "print(\"svar 2:\", sum([partial_overlap(a,b) for a, b in pairs_as_maps]))"
   ]
  },
  {
   "cell_type": "markdown",
   "id": "6250ea2a-2c66-4514-ab85-119a3112fc0c",
   "metadata": {},
   "source": [
    "# December 5."
   ]
  },
  {
   "cell_type": "code",
   "execution_count": 6,
   "id": "f577ee68-b2d1-441b-b638-f655e7536afb",
   "metadata": {
    "tags": []
   },
   "outputs": [
    {
     "name": "stdout",
     "output_type": "stream",
     "text": [
      "svar 1: HBTMTBSDC\n",
      "svar 2: PQTJRSHWS\n"
     ]
    }
   ],
   "source": [
    "initial, moves = open(\"day5.txt\").read().split(\"\\n\\n\")\n",
    "moves_list = [[int(y) for y in move.split(\" \")[1::2]] for move in moves.split(\"\\n\")]\n",
    "\n",
    "def parse_initial(initial):\n",
    "    unfiltered_columns = list(zip(*initial.split(\"\\n\")[:-1]))[1::4]\n",
    "    return [[x for x in row[::-1] if x != \" \"] for row in unfiltered_columns]\n",
    "    \n",
    "def move(stacks, a, b, count, orderer):\n",
    "    stacks[b].extend(orderer(stacks[a][-count:]))\n",
    "    stacks[a] = stacks[a][:-count]\n",
    "\n",
    "for i in range(2):\n",
    "    stacks = parse_initial(initial)\n",
    "    for cnt, a,b in moves_list:\n",
    "        move(stacks, a-1, b-1, cnt, lambda x: [x[::-1], x][i])\n",
    "    print(f\"svar {i+1}:\", \"\".join([x[-1] for x in stacks]))"
   ]
  },
  {
   "cell_type": "markdown",
   "id": "b1c0649c-4434-4dbc-83d0-15e3369face4",
   "metadata": {},
   "source": [
    "# December 6."
   ]
  },
  {
   "cell_type": "code",
   "execution_count": 7,
   "id": "5fae6448-9d71-4635-9867-00583f613a20",
   "metadata": {},
   "outputs": [
    {
     "name": "stdout",
     "output_type": "stream",
     "text": [
      "svar 1: 1965\n",
      "svar 2: 2773\n"
     ]
    }
   ],
   "source": [
    "buffer = open(\"day6.txt\").read()\n",
    "for i, l in enumerate([4,14]):\n",
    "    print(f\"svar {i+1}:\", min([i for i in range(l, len(buffer)) if len(set(buffer[i-l:i])) == l]))"
   ]
  },
  {
   "cell_type": "markdown",
   "id": "59f1e8cb-f007-4928-a387-4c112724143d",
   "metadata": {},
   "source": [
    "# December 7."
   ]
  },
  {
   "cell_type": "code",
   "execution_count": 8,
   "id": "f5f7ccdf-3342-424c-92c7-4e6f630a2dd2",
   "metadata": {},
   "outputs": [
    {
     "name": "stdout",
     "output_type": "stream",
     "text": [
      "svar 1: 1306611\n",
      "svar 2: 13210366\n"
     ]
    }
   ],
   "source": [
    "file = open(\"day7.txt\")\n",
    "sizes = []\n",
    "def sum_dict(file):\n",
    "    size = 0\n",
    "    while \"$ cd ..\\n\" != (next_line := file.readline()):\n",
    "        if not next_line:\n",
    "            break\n",
    "        if \"$ cd\" in next_line:\n",
    "            size += sum_dict(file)\n",
    "        elif next_line[:4] not in [\"$ ls\", \"dir \"]:\n",
    "            size += int(next_line.split(\" \")[0])\n",
    "    sizes.append(size)\n",
    "    return size\n",
    "sum_dict(file)\n",
    "print(\"svar 1:\", sum([x for x in sizes if x <= 100000]))\n",
    "print(\"svar 2:\", min([x for x in sizes if x > max(sizes)-40000000]))"
   ]
  },
  {
   "cell_type": "markdown",
   "id": "b0856f5d-2a71-4940-a5b9-108f191a8cd9",
   "metadata": {},
   "source": [
    "# December 8"
   ]
  },
  {
   "cell_type": "code",
   "execution_count": 9,
   "id": "02229ce1-bf4c-4a02-9bec-ca4247343dfd",
   "metadata": {},
   "outputs": [
    {
     "name": "stdout",
     "output_type": "stream",
     "text": [
      "svar 1: 1787\n",
      "svar 2: 440640\n"
     ]
    }
   ],
   "source": [
    "import numpy as np\n",
    "def visible_from_north(trees):\n",
    "    return np.concatenate([np.ones((1,trees.shape[1])), trees[1:]>np.maximum.accumulate(trees)[:-1]])\n",
    "\n",
    "def scenic_from_north(trees):\n",
    "    return np.array([np.minimum(sum(np.minimum.accumulate(trees[i,1:-1] > trees[i+1:,1:-1]))+1, len(trees)-i-1) for i in range(1,len(trees)-1)])\n",
    "\n",
    "trees = np.array([[*x] for x in open(\"day8.txt\").read().split(\"\\n\")]).astype(int)\n",
    "print(\"svar 1:\", np.sum(sum([np.rot90(visible_from_north(np.rot90(trees, k)), -k) for k in (0,1,2,3)])>0))\n",
    "print(\"svar 2:\", np.max(np.prod([np.rot90(scenic_from_north(np.rot90(trees, k)), -k) for k in (0,1,2,3)],0)))"
   ]
  },
  {
   "cell_type": "markdown",
   "id": "97e59962-95b7-4807-9d52-c355936f1f2d",
   "metadata": {},
   "source": [
    "# December 9"
   ]
  },
  {
   "cell_type": "code",
   "execution_count": 10,
   "id": "e9f70889-38f9-4daf-a415-fedc4b863d07",
   "metadata": {},
   "outputs": [
    {
     "name": "stdout",
     "output_type": "stream",
     "text": [
      "svar 1: 6376\n",
      "svar 2: 2607\n"
     ]
    }
   ],
   "source": [
    "def adjust_rope(positions, visited):\n",
    "    for i in range(1,len(positions)):\n",
    "        if np.hypot(*(positions[i]-positions[i-1])) >= 1.5:\n",
    "            positions[i] += np.clip(positions[i-1] - positions[i], -1, 1)\n",
    "    visited.add(tuple(positions[-1]))\n",
    "            \n",
    "directions = {\"L\":[-1, 0], \"R\":[1, 0], \"U\":[0, 1], \"D\":[0, -1]}\n",
    "def follow_rope_instructions(positions):\n",
    "    visited = {(0,0)}\n",
    "    for line in open(\"day9.txt\").readlines():\n",
    "        orient, cnt = line.split()\n",
    "        for i in range(int(cnt)):\n",
    "            positions[0] += directions[orient]\n",
    "            adjust_rope(positions, visited)\n",
    "    return len(visited)\n",
    "\n",
    "print(\"svar 1:\", follow_rope_instructions(np.zeros((2,2),dtype=int)))\n",
    "print(\"svar 2:\", follow_rope_instructions(np.zeros((10,2),dtype=int)))"
   ]
  },
  {
   "cell_type": "markdown",
   "id": "33fdf6ac-188f-40ac-ad88-ad846eb605b4",
   "metadata": {},
   "source": [
    "# December 10"
   ]
  },
  {
   "cell_type": "code",
   "execution_count": 11,
   "id": "33d03afd-a2b8-4739-8d9e-6f1cde1ae404",
   "metadata": {},
   "outputs": [
    {
     "name": "stdout",
     "output_type": "stream",
     "text": [
      "svar 1: 12520\n",
      "svar 2:\n",
      " ####.#..#.###..####.###....##..##..#....\n",
      "#....#..#.#..#....#.#..#....#.#..#.#....\n",
      "###..####.#..#...#..#..#....#.#....#....\n",
      "#....#..#.###...#...###.....#.#.##.#....\n",
      "#....#..#.#....#....#....#..#.#..#.#....\n",
      "####.#..#.#....####.#.....##...###.####.\n"
     ]
    }
   ],
   "source": [
    "x = [1]\n",
    "for op in open(\"day10.txt\").read().split(\"\\n\"):\n",
    "    x.append(x[-1])\n",
    "    if \"noop\" not in op:\n",
    "        x.append(x[-1]+int(op.split()[1]))\n",
    "x = np.array(x)\n",
    "print(\"svar 1:\", sum(x[19::40]*np.arange(20,240,40)))\n",
    "display = lambda array: \"\\n\".join([\"\".join([\"#\" if pos else \".\" for pos in row]) for row in array])\n",
    "print(\"svar 2:\\n\", display((abs(np.arange(240)%40 - x[:-1]) < 2).reshape(6,40)))"
   ]
  }
 ],
 "metadata": {
  "kernelspec": {
   "display_name": "Python 3",
   "language": "python",
   "name": "python3"
  },
  "language_info": {
   "codemirror_mode": {
    "name": "ipython",
    "version": 3
   },
   "file_extension": ".py",
   "mimetype": "text/x-python",
   "name": "python",
   "nbconvert_exporter": "python",
   "pygments_lexer": "ipython3",
   "version": "3.8.5"
  }
 },
 "nbformat": 4,
 "nbformat_minor": 5
}
